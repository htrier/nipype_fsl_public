{
 "cells": [
  {
   "cell_type": "raw",
   "metadata": {},
   "source": [
    "This script uses nipype to run a first level analysis using custom three-column regressor files.\n",
    "\n",
    "To use this script, first create custom regressor txt files with [onset, duration, value] information. N.B. Txt files that are read into this script must include the string \".run001\" in their names, as per nipype specifications (see https://nipype.readthedocs.io/en/0.13.1/users/model_specification.html)"
   ]
  },
  {
   "cell_type": "code",
   "execution_count": null,
   "metadata": {},
   "outputs": [],
   "source": [
    "%qtconsole --style vim #opens a console\n",
    "import nipype.algorithms.modelgen as model  \n",
    "import nipype.pipeline.engine as pe  \n",
    "import nipype.interfaces.fsl as fsl  \n",
    "import glob\n",
    "import os\n",
    "from multiprocessing import Pool #to run FEAT in parallel\n",
    "import shutil \n",
    "\n",
    "# Set path to file containing all subject folders with 3-column regressor txt files \n",
    "data_path = '/path/to/Regressor_txt_files/'\n",
    "os.chdir(data_path)\n",
    "subj_folders = glob.glob('subj*') # each file has subject data for 1 participant\n",
    "nCores = 4"
   ]
  },
  {
   "cell_type": "code",
   "execution_count": null,
   "metadata": {},
   "outputs": [],
   "source": [
    "### Create design for first-level analysis\n",
    "for subj in sorted(subj_folders): #iterate through all participants\n",
    "    for dsgn in range(0,len(glob.glob(data_path+subj+'/' + 'design*'))):#iterate through each design\n",
    "        designpath = data_path+subj+\"/design\"+str(dsgn)\n",
    "        os.chdir(designpath)\n",
    "        file_names = sorted(glob.glob(designpath + '/*.txt')) #get file names where subject info is stored\n",
    "        event_files = [file_names] #see https://github.com/scanlab-admin/nipype/blob/master/dotpro_singlesubject_4_16_12.py\n",
    "        func_scan = '/path/to/func/scan/epiRun.nii'\n",
    "        # confound_file = '/path/to/confound/file/'+subj+'/melodic_func/melodic_func.ica/mc/prefiltered_func_data_mcf.par'\n",
    "        TR=1.9\n",
    "        TR_name = \"1-9\"\n",
    "\n",
    "        # https://nipype.readthedocs.io/en/latest/users/examples/fmri_fsl.html\n",
    "        ### 1. Setup package-specific configuration. The output file format for FSL routines is being set to compressed NIFTI\n",
    "        fsl.FSLCommand.set_default_output_type('NIFTI_GZ')\n",
    "\n",
    "        ### 2. Set up a new workflow\n",
    "        modelfit = pe.Workflow(name='level1analysis_TR'+TR_name)\n",
    "        modelfit.base_dir = designpath#where the .fsf and other output will be saved\n",
    "        modelfit.config = {\n",
    "            \"execution\": {\n",
    "                \"crashdump_dir\": os.path.abspath('./fsl/crashdumps')\n",
    "            }\n",
    "        }\n",
    "\n",
    "        ### 3. Specify the contrasts\n",
    "        # Format: cont = ['Name_of_contrast', test ('T' or 'F'), ['name_of_regressor1','name_of_regressor2'], [value of each regressor in this contrast]]\n",
    "        cont1 = ['v_firstChecks_constant', 'T', ['vigilance_firstChecks_constant'], [1]]\n",
    "        cont2 = ['v_firstForages_constant', 'T', ['vigilance_firstForages_constant'], [1]]\n",
    "        cont3 = ['v_checkForage_constant_diff', 'T', ['vigilance_firstChecks_constant', \n",
    "                                                      'vigilance_firstForages_constant'], [1, -1]]\n",
    "        contrasts = [cont1,cont2,cont3]\n",
    "\n",
    "            \n",
    "        ### 4. Input design information. SpecifyModel() will aggregate this info to create the 'session_info' structure required to run level1design\n",
    "        modelspec = pe.Node(interface=model.SpecifyModel(), name=\"modelspec\",output_names=\"session_info\") \n",
    "        modelspec.inputs.input_units = 'secs'\n",
    "        modelspec.inputs.functional_runs = func_scan\n",
    "        modelspec.inputs.high_pass_filter_cutoff = 100 \n",
    "        modelspec.inputs.time_repetition = TR  \n",
    "        modelspec.inputs.event_files = event_files \n",
    "\n",
    "        # Add as separate realignment parameters (nipype built-in method):\n",
    "        # modelspec.inputs.realignment_parameters=confound_file \n",
    "        mdl = modelspec.run()\n",
    "\n",
    "        ### 5. Generate the fsf file\n",
    "        level1design = pe.Node(interface=fsl.Level1Design(),name=\"level1design\",input_names='session_info',output_names=\"fsf_file\")\n",
    "        level1design.inputs.interscan_interval = TR  #set to the same as time_repetition according to example at https://gist.github.com/daeh/1f04a98c91e1a30d455379dc5983031c\n",
    "        level1design.inputs.bases = {'dgamma': {'derivs': True}}  \n",
    "        level1design.inputs.contrasts = contrasts\n",
    "        level1design.inputs.model_serial_correlations = bool(True)# (True = turn on prewhitening) Option to model serial correlations using an autoregressive estimator (order 1)\n",
    "        # level1design.inputs.session_info=mdl.outputs.session_info #if you want to inspect session_info and then manually enter it\n",
    "        # lvl = level1design.run()\n",
    "\n",
    "        ### 7. Combine nodes into complete workflow\n",
    "        modelfit.connect([\n",
    "            (modelspec, level1design, [('session_info', 'session_info')]),\n",
    "        ])\n",
    "\n",
    "        ### 8. Execute\n",
    "        os.chdir(designpath)#data_path)\n",
    "        mdl = modelfit.run()\n",
    "    "
   ]
  },
  {
   "cell_type": "code",
   "execution_count": null,
   "metadata": {},
   "outputs": [],
   "source": [
    "# OPTIONAL: ERASE LEVEL1DESIGN FOLDERS FROM ABOVE TO RE-COMPUTE\n",
    "for subj in sorted(subj_folders):\n",
    "        shutil.rmtree('/path/to/Regressor_txt_files/'+subj+'/design4/level1design',ignore_errors=True)  "
   ]
  },
  {
   "cell_type": "code",
   "execution_count": null,
   "metadata": {},
   "outputs": [],
   "source": [
    "# Run lower-level feat\n",
    "dsgn=5 #specify for which design feat will be run\n",
    "subj_to_run_FEAT = sorted(subj_folders)#[\"s227\"]\n",
    "def runFeat(subj):\n",
    "    FEAT_design5 = pe.Node(interface=fsl.FEAT(), name=\"FEAT_design5\", output_names=\"session_info\")\n",
    "    FEAT_design5.inputs.fsf_file = data_path+subj+'/design'+str(dsgn)+'/level1design/modelfit/level1design/run0.fsf'\n",
    "    FEAT_design5.base_dir = '/path/to/Regressor_txt_files/'+subj#create a new file in the current path for containing the feat output\n",
    "    FEAT_design5.run()\n",
    " \n",
    "    \n",
    "with Pool(nCores) as p:\n",
    "        p.map(runFeat, subj_to_run_FEAT) #https://docs.python.org/3.4/library/multiprocessing.html?highlight=process\n"
   ]
  },
  {
   "cell_type": "code",
   "execution_count": null,
   "metadata": {},
   "outputs": [],
   "source": [
    "# Before doing higher-level analyses, it's necessary to copy the registration files from the melodic output into the feat output folder\n",
    "for subj in sorted(subj_folders):\n",
    "        shutil.copytree(src='/path/to/Regressor_txt_files/'+subj+'/melodic_func/melodic_func.ica/reg',\\\n",
    "                        dst='/path/to/Regressor_txt_files/'+subj+'/FEAT_design5/run0.feat/reg')  \n"
   ]
  }
 ],
 "metadata": {
  "kernelspec": {
   "display_name": "Python 3",
   "language": "python",
   "name": "python3"
  },
  "language_info": {
   "codemirror_mode": {
    "name": "ipython",
    "version": 3
   },
   "file_extension": ".py",
   "mimetype": "text/x-python",
   "name": "python",
   "nbconvert_exporter": "python",
   "pygments_lexer": "ipython3",
   "version": "3.7.4"
  }
 },
 "nbformat": 4,
 "nbformat_minor": 2
}
